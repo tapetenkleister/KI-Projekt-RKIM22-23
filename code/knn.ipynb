{
 "cells": [
  {
   "attachments": {},
   "cell_type": "markdown",
   "metadata": {},
   "source": [
    "Implementation of k-nearest neighbour by hand and by import from scikit"
   ]
  },
  {
   "cell_type": "code",
   "execution_count": 1,
   "metadata": {},
   "outputs": [],
   "source": [
    "from collections import Counter\n",
    "import numpy as np\n",
    "\n",
    "def accuracy(true_labels, pred_labels):\n",
    "    accuracy = np.sum(true_labels == pred_labels) / len(true_labels)\n",
    "    return accuracy\n",
    "\n",
    "def euclidean_distance(x1, x2):\n",
    "    return np.sqrt(np.sum((x1 - x2)**2))\n",
    "\n",
    "\n",
    "class KNN:\n",
    "    #init function with takes amount of neighbours to calculate for, default is 3\n",
    "    def __init__(self, k=3):\n",
    "        self.k = k\n",
    "    #save all data and labels to the attributes of the function\n",
    "    def fit(self, data, labels):\n",
    "        self.X_train = data\n",
    "        self.y_train = labels\n",
    "\n",
    "    def predict(self, data):\n",
    "        label_pred = [self._predict(x) for x in data]\n",
    "        return np.array(label_pred)\n",
    "\n",
    "    def _predict(self, data):\n",
    "        # Compute distances between x and all examples in the training set\n",
    "        distances = [euclidean_distance(data, x_train) for x_train in self.X_train]\n",
    "        # Sort by distance and return indices of the first k neighbors\n",
    "        k_idx = np.argsort(distances)[: self.k]\n",
    "        # Extract the labels of the k nearest neighbor training samples\n",
    "        k_neighbor_labels = [self.y_train[i] for i in k_idx]\n",
    "        # return the most common class label that is present among the k neighbours\n",
    "        most_common = Counter(k_neighbor_labels).most_common(1)\n",
    "        #return the first positioned label\n",
    "        return most_common[0][0]"
   ]
  },
  {
   "attachments": {},
   "cell_type": "markdown",
   "metadata": {},
   "source": [
    "Now we need to load a dataset from our extracted features."
   ]
  },
  {
   "cell_type": "code",
   "execution_count": 22,
   "metadata": {},
   "outputs": [],
   "source": [
    "import matplotlib.pyplot as plt \n",
    "import pandas as pd\n",
    "\n",
    "\n",
    "beer_df = pd.read_csv('/home/steve/Vorlesungen/Artificial_Intelligence_Burghart/KI-Projekt-RKIM22-23/analysis/feature_list_hu120_255.csv')\n",
    "#Divide the dataset in data columns and one label column\n",
    "# all but the last column\n",
    "data = beer_df.iloc[:,:-1]\n",
    "#convert all cells from str to float, neccessary because of str type labels\n",
    "data = data.astype(float)\n",
    "# take just the last column that contains labels\n",
    "label = beer_df.iloc[:,-1]\n",
    "#convert to np array\n",
    "data = np.asarray(data)\n",
    "label = np.asarray(label)\n",
    "\n"
   ]
  },
  {
   "attachments": {},
   "cell_type": "markdown",
   "metadata": {},
   "source": [
    "We split the data and label into test and training data in order to evaluate the accuracy of our classifier.\n"
   ]
  },
  {
   "cell_type": "code",
   "execution_count": 23,
   "metadata": {},
   "outputs": [
    {
     "name": "stdout",
     "output_type": "stream",
     "text": [
      "data_train:  (1052, 8) label_train:  (1052,)\n",
      "data_test:  (264, 8) label_test:  (264,)\n"
     ]
    },
    {
     "data": {
      "text/plain": [
       "(1052, 8)"
      ]
     },
     "execution_count": 23,
     "metadata": {},
     "output_type": "execute_result"
    }
   ],
   "source": [
    "from sklearn.model_selection import train_test_split \n",
    "data_train, data_test, label_train, label_test = train_test_split(data,label, test_size=0.2,\n",
    "                                                   random_state=42)\n",
    "\n",
    "print('data_train: ',data_train.shape, 'label_train: ', label_train.shape)\n",
    "print('data_test: ', data_test.shape, 'label_test: ', label_test.shape)\n",
    "data_train.shape\n",
    "#print(data_train)"
   ]
  },
  {
   "attachments": {},
   "cell_type": "markdown",
   "metadata": {},
   "source": [
    "Here the feature list of a test can be inserted into data_test and label_test"
   ]
  },
  {
   "cell_type": "code",
   "execution_count": 24,
   "metadata": {},
   "outputs": [],
   "source": [
    "# test_df = pd.read_csv('/home/steve/Vorlesungen/Artificial_Intelligence_Burghart/KI-Projekt-RKIM22-23/analysis/feature_list_test2.csv')\n",
    "# #Divide the dataset in data columns and one label column\n",
    "# # all but the last column\n",
    "# data_test = test_df.iloc[:,:-1]\n",
    "# #convert all cells from str to float, neccessary because of str type labels\n",
    "# data_test = data_test.astype(float)\n",
    "# # take just the last column that contains labels\n",
    "# label_test = test_df.iloc[:,-1]\n",
    "# #convert to np array\n",
    "# data_test = np.asarray(data_test)\n",
    "# label_test = np.asarray(label_test)\n",
    "# print('data_test: ', data_test.shape, 'label_test: ', label_test.shape)\n"
   ]
  },
  {
   "attachments": {},
   "cell_type": "markdown",
   "metadata": {},
   "source": [
    "Next Step is to call the function for classification."
   ]
  },
  {
   "cell_type": "code",
   "execution_count": 25,
   "metadata": {},
   "outputs": [
    {
     "name": "stdout",
     "output_type": "stream",
     "text": [
      "KNN classification accuracy with 1 neighbour 0.8484848484848485\n",
      "KNN classification accuracy with 3 neighbour 0.8257575757575758\n",
      "KNN classification accuracy with 5 neighbour 0.803030303030303\n",
      "KNN classification accuracy with 7 neighbour 0.7651515151515151\n",
      "KNN classification accuracy with 9 neighbour 0.7803030303030303\n"
     ]
    }
   ],
   "source": [
    "#k being the amount of nearest neighbours to look for\n",
    "for k in range(1,10):\n",
    "     if k%2:\n",
    "          KNNclf = KNN(k=k)\n",
    "          KNNclf.fit(data_train, label_train)\n",
    "          predictions = KNNclf.predict(data_test)\n",
    "          print(\"KNN classification accuracy with\",k,\"neighbour\", accuracy(label_test, predictions))\n",
    "\n",
    "# for i in range(len(label_test)):\n",
    "#      print(\"Real:\",label_test[i],\" --->Pred:\",predictions[i])"
   ]
  },
  {
   "attachments": {},
   "cell_type": "markdown",
   "metadata": {},
   "source": [
    "Implementation of k-nearest Neighbour with SKLearn library"
   ]
  },
  {
   "cell_type": "code",
   "execution_count": 17,
   "metadata": {},
   "outputs": [
    {
     "data": {
      "text/html": [
       "<style>#sk-container-id-4 {color: black;background-color: white;}#sk-container-id-4 pre{padding: 0;}#sk-container-id-4 div.sk-toggleable {background-color: white;}#sk-container-id-4 label.sk-toggleable__label {cursor: pointer;display: block;width: 100%;margin-bottom: 0;padding: 0.3em;box-sizing: border-box;text-align: center;}#sk-container-id-4 label.sk-toggleable__label-arrow:before {content: \"▸\";float: left;margin-right: 0.25em;color: #696969;}#sk-container-id-4 label.sk-toggleable__label-arrow:hover:before {color: black;}#sk-container-id-4 div.sk-estimator:hover label.sk-toggleable__label-arrow:before {color: black;}#sk-container-id-4 div.sk-toggleable__content {max-height: 0;max-width: 0;overflow: hidden;text-align: left;background-color: #f0f8ff;}#sk-container-id-4 div.sk-toggleable__content pre {margin: 0.2em;color: black;border-radius: 0.25em;background-color: #f0f8ff;}#sk-container-id-4 input.sk-toggleable__control:checked~div.sk-toggleable__content {max-height: 200px;max-width: 100%;overflow: auto;}#sk-container-id-4 input.sk-toggleable__control:checked~label.sk-toggleable__label-arrow:before {content: \"▾\";}#sk-container-id-4 div.sk-estimator input.sk-toggleable__control:checked~label.sk-toggleable__label {background-color: #d4ebff;}#sk-container-id-4 div.sk-label input.sk-toggleable__control:checked~label.sk-toggleable__label {background-color: #d4ebff;}#sk-container-id-4 input.sk-hidden--visually {border: 0;clip: rect(1px 1px 1px 1px);clip: rect(1px, 1px, 1px, 1px);height: 1px;margin: -1px;overflow: hidden;padding: 0;position: absolute;width: 1px;}#sk-container-id-4 div.sk-estimator {font-family: monospace;background-color: #f0f8ff;border: 1px dotted black;border-radius: 0.25em;box-sizing: border-box;margin-bottom: 0.5em;}#sk-container-id-4 div.sk-estimator:hover {background-color: #d4ebff;}#sk-container-id-4 div.sk-parallel-item::after {content: \"\";width: 100%;border-bottom: 1px solid gray;flex-grow: 1;}#sk-container-id-4 div.sk-label:hover label.sk-toggleable__label {background-color: #d4ebff;}#sk-container-id-4 div.sk-serial::before {content: \"\";position: absolute;border-left: 1px solid gray;box-sizing: border-box;top: 0;bottom: 0;left: 50%;z-index: 0;}#sk-container-id-4 div.sk-serial {display: flex;flex-direction: column;align-items: center;background-color: white;padding-right: 0.2em;padding-left: 0.2em;position: relative;}#sk-container-id-4 div.sk-item {position: relative;z-index: 1;}#sk-container-id-4 div.sk-parallel {display: flex;align-items: stretch;justify-content: center;background-color: white;position: relative;}#sk-container-id-4 div.sk-item::before, #sk-container-id-4 div.sk-parallel-item::before {content: \"\";position: absolute;border-left: 1px solid gray;box-sizing: border-box;top: 0;bottom: 0;left: 50%;z-index: -1;}#sk-container-id-4 div.sk-parallel-item {display: flex;flex-direction: column;z-index: 1;position: relative;background-color: white;}#sk-container-id-4 div.sk-parallel-item:first-child::after {align-self: flex-end;width: 50%;}#sk-container-id-4 div.sk-parallel-item:last-child::after {align-self: flex-start;width: 50%;}#sk-container-id-4 div.sk-parallel-item:only-child::after {width: 0;}#sk-container-id-4 div.sk-dashed-wrapped {border: 1px dashed gray;margin: 0 0.4em 0.5em 0.4em;box-sizing: border-box;padding-bottom: 0.4em;background-color: white;}#sk-container-id-4 div.sk-label label {font-family: monospace;font-weight: bold;display: inline-block;line-height: 1.2em;}#sk-container-id-4 div.sk-label-container {text-align: center;}#sk-container-id-4 div.sk-container {/* jupyter's `normalize.less` sets `[hidden] { display: none; }` but bootstrap.min.css set `[hidden] { display: none !important; }` so we also need the `!important` here to be able to override the default hidden behavior on the sphinx rendered scikit-learn.org. See: https://github.com/scikit-learn/scikit-learn/issues/21755 */display: inline-block !important;position: relative;}#sk-container-id-4 div.sk-text-repr-fallback {display: none;}</style><div id=\"sk-container-id-4\" class=\"sk-top-container\"><div class=\"sk-text-repr-fallback\"><pre>KNeighborsClassifier()</pre><b>In a Jupyter environment, please rerun this cell to show the HTML representation or trust the notebook. <br />On GitHub, the HTML representation is unable to render, please try loading this page with nbviewer.org.</b></div><div class=\"sk-container\" hidden><div class=\"sk-item\"><div class=\"sk-estimator sk-toggleable\"><input class=\"sk-toggleable__control sk-hidden--visually\" id=\"sk-estimator-id-4\" type=\"checkbox\" checked><label for=\"sk-estimator-id-4\" class=\"sk-toggleable__label sk-toggleable__label-arrow\">KNeighborsClassifier</label><div class=\"sk-toggleable__content\"><pre>KNeighborsClassifier()</pre></div></div></div></div></div>"
      ],
      "text/plain": [
       "KNeighborsClassifier()"
      ]
     },
     "execution_count": 17,
     "metadata": {},
     "output_type": "execute_result"
    }
   ],
   "source": [
    "from sklearn.neighbors import KNeighborsClassifier\n",
    "neigh = KNeighborsClassifier(n_neighbors=5)\n",
    "neigh.fit(data, label)"
   ]
  },
  {
   "cell_type": "code",
   "execution_count": 18,
   "metadata": {},
   "outputs": [
    {
     "name": "stdout",
     "output_type": "stream",
     "text": [
      "Score is: 0.8371212121212122\n",
      "[[66  2  1  1]\n",
      " [ 1 45  9  9]\n",
      " [ 0 16 45  1]\n",
      " [ 1  1  1 65]]\n",
      "                    precision    recall  f1-score   support\n",
      "\n",
      "            broken       0.97      0.94      0.96        70\n",
      "closed_seal_broken       0.70      0.70      0.70        64\n",
      "     closed_sealed       0.80      0.73      0.76        62\n",
      "       open_broken       0.86      0.96      0.90        68\n",
      "\n",
      "          accuracy                           0.84       264\n",
      "         macro avg       0.83      0.83      0.83       264\n",
      "      weighted avg       0.84      0.84      0.84       264\n",
      "\n"
     ]
    }
   ],
   "source": [
    "from sklearn.metrics import confusion_matrix, classification_report\n",
    "\n",
    "print(\"Score is:\" ,neigh.score(data_test, label_test))\n",
    "\n",
    "y_pred_test = neigh.predict(data_test) \n",
    "\n",
    "print(confusion_matrix(label_test,y_pred_test)) \n",
    "print(classification_report(label_test,y_pred_test))"
   ]
  }
 ],
 "metadata": {
  "kernelspec": {
   "display_name": "Python 3",
   "language": "python",
   "name": "python3"
  },
  "language_info": {
   "codemirror_mode": {
    "name": "ipython",
    "version": 3
   },
   "file_extension": ".py",
   "mimetype": "text/x-python",
   "name": "python",
   "nbconvert_exporter": "python",
   "pygments_lexer": "ipython3",
   "version": "3.8.10"
  },
  "orig_nbformat": 4,
  "vscode": {
   "interpreter": {
    "hash": "e7370f93d1d0cde622a1f8e1c04877d8463912d04d973331ad4851f04de6915a"
   }
  }
 },
 "nbformat": 4,
 "nbformat_minor": 2
}
