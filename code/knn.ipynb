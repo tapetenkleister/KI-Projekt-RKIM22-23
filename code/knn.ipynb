{
 "cells": [
  {
   "attachments": {},
   "cell_type": "markdown",
   "metadata": {},
   "source": [
    "Implementation of k-nearest neighbour by hand and by import from scikit"
   ]
  },
  {
   "cell_type": "code",
   "execution_count": 9,
   "metadata": {},
   "outputs": [],
   "source": [
    "from collections import Counter\n",
    "import numpy as np\n",
    "\n",
    "def accuracy(true_labels, pred_labels):\n",
    "    accuracy = np.sum(true_labels == pred_labels) / len(true_labels)\n",
    "    return accuracy\n",
    "\n",
    "def euclidean_distance(x1, x2):\n",
    "    return np.sqrt(np.sum((x1 - x2)**2))\n",
    "\n",
    "\n",
    "class KNN:\n",
    "    #init function with takes amount of neighbours to calculate for, default is 3\n",
    "    def __init__(self, k=3):\n",
    "        self.k = k\n",
    "    #save all data and labels to the attributes of the function\n",
    "    def fit(self, data, labels):\n",
    "        self.X_train = data\n",
    "        self.y_train = labels\n",
    "\n",
    "    def predict(self, data):\n",
    "        label_pred = [self._predict(x) for x in data]\n",
    "        return np.array(label_pred)\n",
    "\n",
    "    def _predict(self, data):\n",
    "        # Compute distances between x and all examples in the training set\n",
    "        distances = [euclidean_distance(data, x_train) for x_train in self.X_train]\n",
    "        # Sort by distance and return indices of the first k neighbors\n",
    "        k_idx = np.argsort(distances)[: self.k]\n",
    "        # Extract the labels of the k nearest neighbor training samples\n",
    "        k_neighbor_labels = [self.y_train[i] for i in k_idx]\n",
    "        # return the most common class label that is present among the k neighbours\n",
    "        most_common = Counter(k_neighbor_labels).most_common(1)\n",
    "        #return the first positioned label\n",
    "        return most_common[0][0]"
   ]
  },
  {
   "attachments": {},
   "cell_type": "markdown",
   "metadata": {},
   "source": [
    "Now we need to load a dataset from our extracted features."
   ]
  },
  {
   "cell_type": "code",
   "execution_count": 10,
   "metadata": {},
   "outputs": [],
   "source": [
    "import matplotlib.pyplot as plt \n",
    "import pandas as pd\n",
    "\n",
    "\n",
    "beer_df = pd.read_csv('/home/steve/Vorlesungen/Artificial_Intelligence_Burghart/KI-Projekt-RKIM22-23/analysis/feature_list_train.csv')\n",
    "#Divide the dataset in data columns and one label column\n",
    "# all but the last column\n",
    "data = beer_df.iloc[:,:-1]\n",
    "#convert all cells from str to float, neccessary because of str type labels\n",
    "data = data.astype(float)\n",
    "# take just the last column that contains labels\n",
    "label = beer_df.iloc[:,-1]\n",
    "#convert to np array\n",
    "data = np.asarray(data)\n",
    "label = np.asarray(label)\n",
    "\n"
   ]
  },
  {
   "attachments": {},
   "cell_type": "markdown",
   "metadata": {},
   "source": [
    "We split the data and label into test and training data in order to evaluate the accuracy of our classifier.\n"
   ]
  },
  {
   "cell_type": "code",
   "execution_count": 11,
   "metadata": {},
   "outputs": [
    {
     "name": "stdout",
     "output_type": "stream",
     "text": [
      "data_train:  (1315, 7) label_train:  (1315,)\n",
      "data_test:  (1, 7) label_test:  (1,)\n"
     ]
    },
    {
     "data": {
      "text/plain": [
       "(1315, 7)"
      ]
     },
     "execution_count": 11,
     "metadata": {},
     "output_type": "execute_result"
    }
   ],
   "source": [
    "from sklearn.model_selection import train_test_split \n",
    "data_train, data_test, label_train, label_test = train_test_split(data,label, test_size=0.00001,\n",
    "                                                   random_state=42)\n",
    "\n",
    "print('data_train: ',data_train.shape, 'label_train: ', label_train.shape)\n",
    "print('data_test: ', data_test.shape, 'label_test: ', label_test.shape)\n",
    "data_train.shape\n",
    "#print(data_train)"
   ]
  },
  {
   "attachments": {},
   "cell_type": "markdown",
   "metadata": {},
   "source": [
    "Here the feature list of a test can be inserted into data_test and label_test"
   ]
  },
  {
   "cell_type": "code",
   "execution_count": 12,
   "metadata": {},
   "outputs": [
    {
     "name": "stdout",
     "output_type": "stream",
     "text": [
      "data_test:  (4, 7) label_test:  (4,)\n"
     ]
    }
   ],
   "source": [
    "test_df = pd.read_csv('/home/steve/Vorlesungen/Artificial_Intelligence_Burghart/KI-Projekt-RKIM22-23/analysis/feature_list_test2.csv')\n",
    "#Divide the dataset in data columns and one label column\n",
    "# all but the last column\n",
    "data_test = test_df.iloc[:,:-1]\n",
    "#convert all cells from str to float, neccessary because of str type labels\n",
    "data_test = data_test.astype(float)\n",
    "# take just the last column that contains labels\n",
    "label_test = test_df.iloc[:,-1]\n",
    "#convert to np array\n",
    "data_test = np.asarray(data_test)\n",
    "label_test = np.asarray(label_test)\n",
    "print('data_test: ', data_test.shape, 'label_test: ', label_test.shape)\n"
   ]
  },
  {
   "attachments": {},
   "cell_type": "markdown",
   "metadata": {},
   "source": [
    "Next Step is to call the function for classification."
   ]
  },
  {
   "cell_type": "code",
   "execution_count": 13,
   "metadata": {},
   "outputs": [
    {
     "name": "stdout",
     "output_type": "stream",
     "text": [
      "KNN classification accuracy with 1 neighbour 0.25\n",
      "KNN classification accuracy with 3 neighbour 0.25\n",
      "KNN classification accuracy with 5 neighbour 0.25\n",
      "KNN classification accuracy with 7 neighbour 0.25\n",
      "KNN classification accuracy with 9 neighbour 0.25\n",
      "Real: closed_seal_broken  --->Pred: open_broken\n",
      "Real: broken  --->Pred: broken\n",
      "Real: closed_sealed  --->Pred: closed_seal_broken\n",
      "Real: open_broken  --->Pred: closed_seal_broken\n"
     ]
    }
   ],
   "source": [
    "#k being the amount of nearest neighbours to look for\n",
    "for k in range(1,10):\n",
    "     if k%2:\n",
    "          KNNclf = KNN(k=k)\n",
    "          KNNclf.fit(data_train, label_train)\n",
    "          predictions = KNNclf.predict(data_test)\n",
    "          print(\"KNN classification accuracy with\",k,\"neighbour\", accuracy(label_test, predictions))\n",
    "\n",
    "for i in range(len(label_test)):\n",
    "     \n",
    "     print(\"Real:\",label_test[i],\" --->Pred:\",predictions[i])"
   ]
  },
  {
   "attachments": {},
   "cell_type": "markdown",
   "metadata": {},
   "source": [
    "Implementation of k-nearest Neighbour with SKLearn library"
   ]
  },
  {
   "cell_type": "code",
   "execution_count": 14,
   "metadata": {},
   "outputs": [
    {
     "data": {
      "text/html": [
       "<style>#sk-container-id-1 {color: black;background-color: white;}#sk-container-id-1 pre{padding: 0;}#sk-container-id-1 div.sk-toggleable {background-color: white;}#sk-container-id-1 label.sk-toggleable__label {cursor: pointer;display: block;width: 100%;margin-bottom: 0;padding: 0.3em;box-sizing: border-box;text-align: center;}#sk-container-id-1 label.sk-toggleable__label-arrow:before {content: \"▸\";float: left;margin-right: 0.25em;color: #696969;}#sk-container-id-1 label.sk-toggleable__label-arrow:hover:before {color: black;}#sk-container-id-1 div.sk-estimator:hover label.sk-toggleable__label-arrow:before {color: black;}#sk-container-id-1 div.sk-toggleable__content {max-height: 0;max-width: 0;overflow: hidden;text-align: left;background-color: #f0f8ff;}#sk-container-id-1 div.sk-toggleable__content pre {margin: 0.2em;color: black;border-radius: 0.25em;background-color: #f0f8ff;}#sk-container-id-1 input.sk-toggleable__control:checked~div.sk-toggleable__content {max-height: 200px;max-width: 100%;overflow: auto;}#sk-container-id-1 input.sk-toggleable__control:checked~label.sk-toggleable__label-arrow:before {content: \"▾\";}#sk-container-id-1 div.sk-estimator input.sk-toggleable__control:checked~label.sk-toggleable__label {background-color: #d4ebff;}#sk-container-id-1 div.sk-label input.sk-toggleable__control:checked~label.sk-toggleable__label {background-color: #d4ebff;}#sk-container-id-1 input.sk-hidden--visually {border: 0;clip: rect(1px 1px 1px 1px);clip: rect(1px, 1px, 1px, 1px);height: 1px;margin: -1px;overflow: hidden;padding: 0;position: absolute;width: 1px;}#sk-container-id-1 div.sk-estimator {font-family: monospace;background-color: #f0f8ff;border: 1px dotted black;border-radius: 0.25em;box-sizing: border-box;margin-bottom: 0.5em;}#sk-container-id-1 div.sk-estimator:hover {background-color: #d4ebff;}#sk-container-id-1 div.sk-parallel-item::after {content: \"\";width: 100%;border-bottom: 1px solid gray;flex-grow: 1;}#sk-container-id-1 div.sk-label:hover label.sk-toggleable__label {background-color: #d4ebff;}#sk-container-id-1 div.sk-serial::before {content: \"\";position: absolute;border-left: 1px solid gray;box-sizing: border-box;top: 0;bottom: 0;left: 50%;z-index: 0;}#sk-container-id-1 div.sk-serial {display: flex;flex-direction: column;align-items: center;background-color: white;padding-right: 0.2em;padding-left: 0.2em;position: relative;}#sk-container-id-1 div.sk-item {position: relative;z-index: 1;}#sk-container-id-1 div.sk-parallel {display: flex;align-items: stretch;justify-content: center;background-color: white;position: relative;}#sk-container-id-1 div.sk-item::before, #sk-container-id-1 div.sk-parallel-item::before {content: \"\";position: absolute;border-left: 1px solid gray;box-sizing: border-box;top: 0;bottom: 0;left: 50%;z-index: -1;}#sk-container-id-1 div.sk-parallel-item {display: flex;flex-direction: column;z-index: 1;position: relative;background-color: white;}#sk-container-id-1 div.sk-parallel-item:first-child::after {align-self: flex-end;width: 50%;}#sk-container-id-1 div.sk-parallel-item:last-child::after {align-self: flex-start;width: 50%;}#sk-container-id-1 div.sk-parallel-item:only-child::after {width: 0;}#sk-container-id-1 div.sk-dashed-wrapped {border: 1px dashed gray;margin: 0 0.4em 0.5em 0.4em;box-sizing: border-box;padding-bottom: 0.4em;background-color: white;}#sk-container-id-1 div.sk-label label {font-family: monospace;font-weight: bold;display: inline-block;line-height: 1.2em;}#sk-container-id-1 div.sk-label-container {text-align: center;}#sk-container-id-1 div.sk-container {/* jupyter's `normalize.less` sets `[hidden] { display: none; }` but bootstrap.min.css set `[hidden] { display: none !important; }` so we also need the `!important` here to be able to override the default hidden behavior on the sphinx rendered scikit-learn.org. See: https://github.com/scikit-learn/scikit-learn/issues/21755 */display: inline-block !important;position: relative;}#sk-container-id-1 div.sk-text-repr-fallback {display: none;}</style><div id=\"sk-container-id-1\" class=\"sk-top-container\"><div class=\"sk-text-repr-fallback\"><pre>KNeighborsClassifier()</pre><b>In a Jupyter environment, please rerun this cell to show the HTML representation or trust the notebook. <br />On GitHub, the HTML representation is unable to render, please try loading this page with nbviewer.org.</b></div><div class=\"sk-container\" hidden><div class=\"sk-item\"><div class=\"sk-estimator sk-toggleable\"><input class=\"sk-toggleable__control sk-hidden--visually\" id=\"sk-estimator-id-1\" type=\"checkbox\" checked><label for=\"sk-estimator-id-1\" class=\"sk-toggleable__label sk-toggleable__label-arrow\">KNeighborsClassifier</label><div class=\"sk-toggleable__content\"><pre>KNeighborsClassifier()</pre></div></div></div></div></div>"
      ],
      "text/plain": [
       "KNeighborsClassifier()"
      ]
     },
     "execution_count": 14,
     "metadata": {},
     "output_type": "execute_result"
    }
   ],
   "source": [
    "from sklearn.neighbors import KNeighborsClassifier\n",
    "neigh = KNeighborsClassifier(n_neighbors=5)\n",
    "neigh.fit(data, label)"
   ]
  },
  {
   "cell_type": "code",
   "execution_count": 15,
   "metadata": {},
   "outputs": [
    {
     "name": "stdout",
     "output_type": "stream",
     "text": [
      "Score is: 0.25\n",
      "[[1 0 0 0]\n",
      " [0 0 0 1]\n",
      " [0 1 0 0]\n",
      " [0 1 0 0]]\n",
      "                    precision    recall  f1-score   support\n",
      "\n",
      "            broken       1.00      1.00      1.00         1\n",
      "closed_seal_broken       0.00      0.00      0.00         1\n",
      "     closed_sealed       0.00      0.00      0.00         1\n",
      "       open_broken       0.00      0.00      0.00         1\n",
      "\n",
      "          accuracy                           0.25         4\n",
      "         macro avg       0.25      0.25      0.25         4\n",
      "      weighted avg       0.25      0.25      0.25         4\n",
      "\n"
     ]
    },
    {
     "name": "stderr",
     "output_type": "stream",
     "text": [
      "/home/steve/.local/lib/python3.8/site-packages/sklearn/metrics/_classification.py:1334: UndefinedMetricWarning: Precision and F-score are ill-defined and being set to 0.0 in labels with no predicted samples. Use `zero_division` parameter to control this behavior.\n",
      "  _warn_prf(average, modifier, msg_start, len(result))\n",
      "/home/steve/.local/lib/python3.8/site-packages/sklearn/metrics/_classification.py:1334: UndefinedMetricWarning: Precision and F-score are ill-defined and being set to 0.0 in labels with no predicted samples. Use `zero_division` parameter to control this behavior.\n",
      "  _warn_prf(average, modifier, msg_start, len(result))\n",
      "/home/steve/.local/lib/python3.8/site-packages/sklearn/metrics/_classification.py:1334: UndefinedMetricWarning: Precision and F-score are ill-defined and being set to 0.0 in labels with no predicted samples. Use `zero_division` parameter to control this behavior.\n",
      "  _warn_prf(average, modifier, msg_start, len(result))\n"
     ]
    }
   ],
   "source": [
    "from sklearn.metrics import confusion_matrix, classification_report\n",
    "\n",
    "print(\"Score is:\" ,neigh.score(data_test, label_test))\n",
    "\n",
    "y_pred_test = neigh.predict(data_test) \n",
    "\n",
    "print(confusion_matrix(label_test,y_pred_test)) \n",
    "print(classification_report(label_test,y_pred_test))"
   ]
  }
 ],
 "metadata": {
  "kernelspec": {
   "display_name": "Python 3",
   "language": "python",
   "name": "python3"
  },
  "language_info": {
   "codemirror_mode": {
    "name": "ipython",
    "version": 3
   },
   "file_extension": ".py",
   "mimetype": "text/x-python",
   "name": "python",
   "nbconvert_exporter": "python",
   "pygments_lexer": "ipython3",
   "version": "3.8.10"
  },
  "orig_nbformat": 4,
  "vscode": {
   "interpreter": {
    "hash": "e7370f93d1d0cde622a1f8e1c04877d8463912d04d973331ad4851f04de6915a"
   }
  }
 },
 "nbformat": 4,
 "nbformat_minor": 2
}
